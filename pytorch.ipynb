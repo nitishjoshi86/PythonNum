{
  "nbformat": 4,
  "nbformat_minor": 0,
  "metadata": {
    "colab": {
      "name": "Untitled1.ipynb",
      "provenance": [],
      "authorship_tag": "ABX9TyMXXNkHURK0wcgVTNxMmib9",
      "include_colab_link": true
    },
    "kernelspec": {
      "name": "python3",
      "display_name": "Python 3"
    },
    "language_info": {
      "name": "python"
    }
  },
  "cells": [
    {
      "cell_type": "markdown",
      "metadata": {
        "id": "view-in-github",
        "colab_type": "text"
      },
      "source": [
        "<a href=\"https://colab.research.google.com/github/nitishjoshi86/PythonNum/blob/main/pytorch.ipynb\" target=\"_parent\"><img src=\"https://colab.research.google.com/assets/colab-badge.svg\" alt=\"Open In Colab\"/></a>"
      ]
    },
    {
      "cell_type": "code",
      "metadata": {
        "colab": {
          "base_uri": "https://localhost:8080/"
        },
        "id": "gb0K3-r_MKog",
        "outputId": "ba6762f9-14c9-48c8-b138-9ad6e17c5d5e"
      },
      "source": [
        "import numpy as np\n",
        "import torch\n",
        "\n",
        "SEED = 1234\n",
        "\n",
        "#set seed for reproducibility\n",
        "\n",
        "np.random.seed(seed = SEED)\n",
        "torch.manual_seed(SEED)"
      ],
      "execution_count": 1,
      "outputs": [
        {
          "output_type": "execute_result",
          "data": {
            "text/plain": [
              "<torch._C.Generator at 0x7ff610957a90>"
            ]
          },
          "metadata": {
            "tags": []
          },
          "execution_count": 1
        }
      ]
    },
    {
      "cell_type": "code",
      "metadata": {
        "colab": {
          "base_uri": "https://localhost:8080/"
        },
        "id": "s5L-US7YMcEO",
        "outputId": "4b3a4d9e-4cb8-4dc7-c2f4-b04fd58b6e21"
      },
      "source": [
        "#creating a random tensor\n",
        "\n",
        "x = torch.randn(2,3) #normal distribution (rand(2,3) -> uniform distribution)\n",
        "print(f\"Type: {x.type()}\")\n",
        "print(f\"Size: {x.shape}\")\n",
        "print(f\"Values: \\n {x}\")"
      ],
      "execution_count": 2,
      "outputs": [
        {
          "output_type": "stream",
          "text": [
            "Type: torch.FloatTensor\n",
            "Size: torch.Size([2, 3])\n",
            "Values: \n",
            " tensor([[ 0.0461,  0.4024, -1.0115],\n",
            "        [ 0.2167, -0.6123,  0.5036]])\n"
          ],
          "name": "stdout"
        }
      ]
    },
    {
      "cell_type": "code",
      "metadata": {
        "colab": {
          "base_uri": "https://localhost:8080/"
        },
        "id": "MqkT42hRNJ2E",
        "outputId": "49be8754-3c35-4ba8-bb2e-6a9574e6fc1d"
      },
      "source": [
        "#zero and ones tensor\n",
        "\n",
        "x = torch.zeros(2,3)\n",
        "print(x)\n",
        "x = torch.ones(2,3)\n",
        "print(x)"
      ],
      "execution_count": 3,
      "outputs": [
        {
          "output_type": "stream",
          "text": [
            "tensor([[0., 0., 0.],\n",
            "        [0., 0., 0.]])\n",
            "tensor([[1., 1., 1.],\n",
            "        [1., 1., 1.]])\n"
          ],
          "name": "stdout"
        }
      ]
    },
    {
      "cell_type": "code",
      "metadata": {
        "colab": {
          "base_uri": "https://localhost:8080/"
        },
        "id": "scdy7dRVQMZf",
        "outputId": "3307e299-2426-4cb2-94dc-d6931723cc97"
      },
      "source": [
        "#list -> tensor\n",
        "\n",
        "x = torch.Tensor([[1,2,3], [4,5,6]])\n",
        "print(f\"Size: {x.shape}\")\n",
        "print(f\"Value: \\n {x}\")"
      ],
      "execution_count": 4,
      "outputs": [
        {
          "output_type": "stream",
          "text": [
            "Size: torch.Size([2, 3])\n",
            "Value: \n",
            " tensor([[1., 2., 3.],\n",
            "        [4., 5., 6.]])\n"
          ],
          "name": "stdout"
        }
      ]
    },
    {
      "cell_type": "code",
      "metadata": {
        "colab": {
          "base_uri": "https://localhost:8080/"
        },
        "id": "iY7Gpm3iQgST",
        "outputId": "211fe877-f2ac-4bbf-e117-11f3340cd6be"
      },
      "source": [
        "#numpy array -> tensor\n",
        "\n",
        "x = torch.Tensor(np.random.rand(2,3))\n",
        "print(f\"Size: {x.shape}\")\n",
        "print(f\"value: \\n {x}\")"
      ],
      "execution_count": 5,
      "outputs": [
        {
          "output_type": "stream",
          "text": [
            "Size: torch.Size([2, 3])\n",
            "value: \n",
            " tensor([[0.1915, 0.6221, 0.4377],\n",
            "        [0.7854, 0.7800, 0.2726]])\n"
          ],
          "name": "stdout"
        }
      ]
    },
    {
      "cell_type": "code",
      "metadata": {
        "colab": {
          "base_uri": "https://localhost:8080/"
        },
        "id": "LHQNP87EQ3F7",
        "outputId": "5aa12cfc-53a9-4b75-b255-455b9299934d"
      },
      "source": [
        "#changing tensor type\n",
        "\n",
        "x = torch.Tensor(3,4)\n",
        "print(f\"Type: {x.type()}\")\n",
        "x = x.long()\n",
        "print(f\"Type: {x.type()}\")"
      ],
      "execution_count": 6,
      "outputs": [
        {
          "output_type": "stream",
          "text": [
            "Type: torch.FloatTensor\n",
            "Type: torch.LongTensor\n"
          ],
          "name": "stdout"
        }
      ]
    },
    {
      "cell_type": "code",
      "metadata": {
        "colab": {
          "base_uri": "https://localhost:8080/"
        },
        "id": "gWmMELK5RPPU",
        "outputId": "0fa0d64d-8f3c-42f5-e77f-0cf42675e2c3"
      },
      "source": [
        "#basic operations with tensors\n",
        "\n",
        "#addition\n",
        "\n",
        "x = torch.randn(2,3)\n",
        "y = torch.randn(2,3)\n",
        "z = x + y\n",
        "print('addition')\n",
        "print(f\"Size: {z.shape}\")\n",
        "print(f\"Values: \\n{z}\")\n",
        "\n",
        "#dotproduct\n",
        "\n",
        "x = torch.randn(2,3)\n",
        "y = torch.randn(3,2)\n",
        "z = torch.mm(x, y)\n",
        "print('dotproduct')\n",
        "print(f\"Size: {z.shape}\")\n",
        "print(f\"Values: \\n{z}\")\n",
        "\n",
        "#transpose\n",
        "\n",
        "x = torch.randn(2,3)\n",
        "print('transpose')\n",
        "print(f\"Size: {x.shape}\")\n",
        "print(f\"Values: \\n{x}\")\n",
        "y = torch.t(x)\n",
        "print(f\"Size: {y.shape}\")\n",
        "print(f\"Values: \\n{y}\")"
      ],
      "execution_count": 14,
      "outputs": [
        {
          "output_type": "stream",
          "text": [
            "addition\n",
            "Size: torch.Size([2, 3])\n",
            "Values: \n",
            "tensor([[-0.5583, -0.4106, -0.3145],\n",
            "        [ 1.3800,  0.3692,  1.2036]])\n",
            "dotproduct\n",
            "Size: torch.Size([2, 2])\n",
            "Values: \n",
            "tensor([[2.3773, 4.3214],\n",
            "        [0.6758, 2.3792]])\n",
            "transpose\n",
            "Size: torch.Size([2, 3])\n",
            "Values: \n",
            "tensor([[ 0.1438, -1.5399,  0.1169],\n",
            "        [-0.1423,  0.1624,  0.4570]])\n",
            "Size: torch.Size([3, 2])\n",
            "Values: \n",
            "tensor([[ 0.1438, -0.1423],\n",
            "        [-1.5399,  0.1624],\n",
            "        [ 0.1169,  0.4570]])\n"
          ],
          "name": "stdout"
        }
      ]
    },
    {
      "cell_type": "code",
      "metadata": {
        "colab": {
          "base_uri": "https://localhost:8080/"
        },
        "id": "1wVFENm1TMbU",
        "outputId": "4276470a-bb49-4845-d017-dfe71d6561d4"
      },
      "source": [
        "#reshape\n",
        "\n",
        "x = torch.randn(2,3)\n",
        "z = x.view(3,2)\n",
        "print(f\"size: {z.shape}\")\n",
        "print(f\"value: \\n {z}\")"
      ],
      "execution_count": 15,
      "outputs": [
        {
          "output_type": "stream",
          "text": [
            "size: torch.Size([3, 2])\n",
            "value: \n",
            " tensor([[ 1.1839,  0.8176],\n",
            "        [ 0.7177, -1.3875],\n",
            "        [-0.5130,  0.3247]])\n"
          ],
          "name": "stdout"
        }
      ]
    },
    {
      "cell_type": "code",
      "metadata": {
        "colab": {
          "base_uri": "https://localhost:8080/"
        },
        "id": "2ChVaJLrTedk",
        "outputId": "db8b1383-6623-47ab-d0c4-4970a4e0fcd8"
      },
      "source": [
        "# Dangers of reshaping (unintended consequences)\n",
        "x = torch.tensor([\n",
        "    [[1,1,1,1], [2,2,2,2], [3,3,3,3]],\n",
        "    [[10,10,10,10], [20,20,20,20], [30,30,30,30]]\n",
        "])\n",
        "print(f\"Size: {x.shape}\")\n",
        "print(f\"x: \\n{x}\\n\")\n",
        "\n",
        "a = x.view(x.size(1), -1)\n",
        "print(f\"\\nSize: {a.shape}\")\n",
        "print(f\"a: \\n{a}\\n\")\n",
        "\n",
        "b = x.transpose(0,1).contiguous()\n",
        "print(f\"\\nSize: {b.shape}\")\n",
        "print(f\"b: \\n{b}\\n\")\n",
        "\n",
        "c = b.view(b.size(0), -1)\n",
        "print(f\"\\nSize: {c.shape}\")\n",
        "print(f\"c: \\n{c}\")"
      ],
      "execution_count": 16,
      "outputs": [
        {
          "output_type": "stream",
          "text": [
            "Size: torch.Size([2, 3, 4])\n",
            "x: \n",
            "tensor([[[ 1,  1,  1,  1],\n",
            "         [ 2,  2,  2,  2],\n",
            "         [ 3,  3,  3,  3]],\n",
            "\n",
            "        [[10, 10, 10, 10],\n",
            "         [20, 20, 20, 20],\n",
            "         [30, 30, 30, 30]]])\n",
            "\n",
            "\n",
            "Size: torch.Size([3, 8])\n",
            "a: \n",
            "tensor([[ 1,  1,  1,  1,  2,  2,  2,  2],\n",
            "        [ 3,  3,  3,  3, 10, 10, 10, 10],\n",
            "        [20, 20, 20, 20, 30, 30, 30, 30]])\n",
            "\n",
            "\n",
            "Size: torch.Size([3, 2, 4])\n",
            "b: \n",
            "tensor([[[ 1,  1,  1,  1],\n",
            "         [10, 10, 10, 10]],\n",
            "\n",
            "        [[ 2,  2,  2,  2],\n",
            "         [20, 20, 20, 20]],\n",
            "\n",
            "        [[ 3,  3,  3,  3],\n",
            "         [30, 30, 30, 30]]])\n",
            "\n",
            "\n",
            "Size: torch.Size([3, 8])\n",
            "c: \n",
            "tensor([[ 1,  1,  1,  1, 10, 10, 10, 10],\n",
            "        [ 2,  2,  2,  2, 20, 20, 20, 20],\n",
            "        [ 3,  3,  3,  3, 30, 30, 30, 30]])\n"
          ],
          "name": "stdout"
        }
      ]
    },
    {
      "cell_type": "code",
      "metadata": {
        "colab": {
          "base_uri": "https://localhost:8080/"
        },
        "id": "nAqQ2YWATkMj",
        "outputId": "fe31e9d0-94c0-416f-d400-fd07290f83a1"
      },
      "source": [
        "#dimensional operations\n",
        "\n",
        "x = torch.randn(2,3)\n",
        "print(f\"values: \\n{x}\")\n",
        "y = torch.sum(y, dim = 0)\n",
        "print(f\"values: \\n{y}\")\n",
        "z = torch.sum(z, dim = 1)\n",
        "print(f\"values: \\n{z}\")"
      ],
      "execution_count": 17,
      "outputs": [
        {
          "output_type": "stream",
          "text": [
            "values: \n",
            "tensor([[ 0.4834, -0.5761, -0.5541],\n",
            "        [ 1.4976, -0.4817, -1.4194]])\n",
            "values: \n",
            "tensor([-1.2791,  0.4772])\n",
            "values: \n",
            "tensor([ 2.0016, -0.6698, -0.1883])\n"
          ],
          "name": "stdout"
        }
      ]
    },
    {
      "cell_type": "code",
      "metadata": {
        "colab": {
          "base_uri": "https://localhost:8080/"
        },
        "id": "6667DGdUUH8z",
        "outputId": "82605373-947e-4055-9947-18f0f101b223"
      },
      "source": [
        "#how to extract separate and join values from our tensors\n",
        "\n",
        "x = torch.randn(3,4)\n",
        "print(f\"x: \\n {x}\")\n",
        "print(f\"x[:1]: \\n{x[:1]}\")\n",
        "print(f\"x[:1, 1:3]: \\n{x[:1, 1:3]}\")"
      ],
      "execution_count": 18,
      "outputs": [
        {
          "output_type": "stream",
          "text": [
            "x: \n",
            " tensor([[-0.4455, -0.4108,  0.3571, -1.4713],\n",
            "        [ 0.9365,  0.2561, -0.3379,  0.1182],\n",
            "        [-0.8526,  0.4603,  0.9020,  0.9087]])\n",
            "x[:1]: \n",
            "tensor([[-0.4455, -0.4108,  0.3571, -1.4713]])\n",
            "x[:1, 1:3]: \n",
            "tensor([[-0.4108,  0.3571]])\n"
          ],
          "name": "stdout"
        }
      ]
    },
    {
      "cell_type": "code",
      "metadata": {
        "colab": {
          "base_uri": "https://localhost:8080/"
        },
        "id": "rog9gwD3YXCz",
        "outputId": "0f7b9f63-fc1e-4efc-93d6-b085948b4e13"
      },
      "source": [
        "#slicing, select with dimensional indicies\n",
        "\n",
        "x = torch.randn(2,3)\n",
        "print(f\"value: \\n {x}\")\n",
        "\n",
        "colindices = torch.LongTensor([0,2])\n",
        "choosen = torch.index_select(x, dim =1, index = colindices)#values from column 0 n 2\n",
        "print(f\"values: \\n {choosen}\")\n",
        "\n",
        "rowindices = torch.LongTensor([0,1])\n",
        "colindices = torch.LongTensor([0,2])\n",
        "chosen = x[rowindices, colindices] #values from (0,0) & (2,1)\n",
        "print(f\"values: \\n{choosen}\")"
      ],
      "execution_count": 20,
      "outputs": [
        {
          "output_type": "stream",
          "text": [
            "value: \n",
            " tensor([[ 0.6744,  1.0753,  0.1647],\n",
            "        [ 0.2463, -0.2627, -0.5241]])\n",
            "values: \n",
            " tensor([[ 0.6744,  0.1647],\n",
            "        [ 0.2463, -0.5241]])\n",
            "values: \n",
            "tensor([[ 0.6744,  0.1647],\n",
            "        [ 0.2463, -0.5241]])\n"
          ],
          "name": "stdout"
        }
      ]
    },
    {
      "cell_type": "code",
      "metadata": {
        "colab": {
          "base_uri": "https://localhost:8080/"
        },
        "id": "fVUwr7UUZV51",
        "outputId": "ed7b90c1-4a6b-43ad-ebc7-7e8afdc0644a"
      },
      "source": [
        "#joining, concatenation\n",
        "\n",
        "x = torch.randn(2,3)\n",
        "print(f\"values: \\n{x}\")\n",
        "y = torch.cat([x,x], dim = 0) #stack by rows(dim = 1 to stack by columns)\n",
        "print(f\"values: \\n{y}\")"
      ],
      "execution_count": 21,
      "outputs": [
        {
          "output_type": "stream",
          "text": [
            "values: \n",
            "tensor([[-0.0901,  1.1621,  1.5299],\n",
            "        [ 0.7377, -1.4209,  0.0663]])\n",
            "values: \n",
            "tensor([[-0.0901,  1.1621,  1.5299],\n",
            "        [ 0.7377, -1.4209,  0.0663],\n",
            "        [-0.0901,  1.1621,  1.5299],\n",
            "        [ 0.7377, -1.4209,  0.0663]])\n"
          ],
          "name": "stdout"
        }
      ]
    },
    {
      "cell_type": "code",
      "metadata": {
        "colab": {
          "base_uri": "https://localhost:8080/"
        },
        "id": "kEkfLXVUZweZ",
        "outputId": "64067757-8f1f-40e2-988c-5476873ab17f"
      },
      "source": [
        "#tensors with gradient bookkeeping\n",
        "\n",
        "x = torch.rand(3, 4, requires_grad= True)\n",
        "y = 3*x + 2\n",
        "z = y.mean()\n",
        "z.backward() #z has to be scalar\n",
        "\n",
        "print(f\"x: \\n{x}\")\n",
        "print(f\"x.grad: \\n{x.grad}\")"
      ],
      "execution_count": 22,
      "outputs": [
        {
          "output_type": "stream",
          "text": [
            "x: \n",
            "tensor([[0.5462, 0.3548, 0.4695, 0.9934],\n",
            "        [0.5161, 0.3650, 0.5073, 0.2586],\n",
            "        [0.2099, 0.3873, 0.7590, 0.4613]], requires_grad=True)\n",
            "x.grad: \n",
            "tensor([[0.2500, 0.2500, 0.2500, 0.2500],\n",
            "        [0.2500, 0.2500, 0.2500, 0.2500],\n",
            "        [0.2500, 0.2500, 0.2500, 0.2500]])\n"
          ],
          "name": "stdout"
        }
      ]
    },
    {
      "cell_type": "code",
      "metadata": {
        "colab": {
          "base_uri": "https://localhost:8080/"
        },
        "id": "Bf6yePosaRz0",
        "outputId": "dfe8270e-9a8a-4505-d549-f2fe547568f6"
      },
      "source": [
        "#cuda\n",
        "\n",
        "print(torch.cuda.is_available())"
      ],
      "execution_count": 23,
      "outputs": [
        {
          "output_type": "stream",
          "text": [
            "False\n"
          ],
          "name": "stdout"
        }
      ]
    },
    {
      "cell_type": "code",
      "metadata": {
        "id": "v_Hr8Nqdal-p"
      },
      "source": [
        "import torch"
      ],
      "execution_count": 24,
      "outputs": []
    },
    {
      "cell_type": "code",
      "metadata": {
        "colab": {
          "base_uri": "https://localhost:8080/"
        },
        "id": "QyV5NoPdanvh",
        "outputId": "60dc4128-88f1-41d4-b8a3-9d90eb8a374a"
      },
      "source": [
        "print(torch.cuda.is_available())"
      ],
      "execution_count": 25,
      "outputs": [
        {
          "output_type": "stream",
          "text": [
            "False\n"
          ],
          "name": "stdout"
        }
      ]
    },
    {
      "cell_type": "code",
      "metadata": {
        "colab": {
          "base_uri": "https://localhost:8080/"
        },
        "id": "nzYKLgu1aqJR",
        "outputId": "9da0ad77-c699-4a7b-ed48-dc7c8d2110e1"
      },
      "source": [
        "device = torch.device('cuda' if torch.cuda.is_available() else 'cpu')\n",
        "print (device)"
      ],
      "execution_count": 26,
      "outputs": [
        {
          "output_type": "stream",
          "text": [
            "cpu\n"
          ],
          "name": "stdout"
        }
      ]
    },
    {
      "cell_type": "code",
      "metadata": {
        "colab": {
          "base_uri": "https://localhost:8080/"
        },
        "id": "SYo9yNsCauAJ",
        "outputId": "51ae7f07-b974-447c-e74a-a55cfc751ab8"
      },
      "source": [
        "x = torch.rand(2,3)\n",
        "print (x.is_cuda)\n",
        "x = torch.rand(2,3).to(device) # sTensor is stored on the GPU\n",
        "print (x.is_cuda)"
      ],
      "execution_count": 27,
      "outputs": [
        {
          "output_type": "stream",
          "text": [
            "False\n",
            "False\n"
          ],
          "name": "stdout"
        }
      ]
    },
    {
      "cell_type": "code",
      "metadata": {
        "id": "f48A9sU7axOx"
      },
      "source": [
        ""
      ],
      "execution_count": null,
      "outputs": []
    }
  ]
}